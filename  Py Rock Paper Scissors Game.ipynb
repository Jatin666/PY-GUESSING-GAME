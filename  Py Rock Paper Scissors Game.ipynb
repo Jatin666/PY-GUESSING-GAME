{
  "nbformat": 4,
  "nbformat_minor": 0,
  "metadata": {
    "colab": {
      "name": "Untitled5.ipynb",
      "provenance": [],
      "collapsed_sections": [],
      "authorship_tag": "ABX9TyM2Clm52+DMQ8mALO5B8Blo",
      "include_colab_link": true
    },
    "kernelspec": {
      "name": "python3",
      "display_name": "Python 3"
    }
  },
  "cells": [
    {
      "cell_type": "markdown",
      "metadata": {
        "id": "view-in-github",
        "colab_type": "text"
      },
      "source": [
        "<a href=\"https://colab.research.google.com/github/Jatin666/PY-GUESSING-GAME/blob/master/%20Py%20Rock%20Paper%20Scissors%20Game.ipynb\" target=\"_parent\"><img src=\"https://colab.research.google.com/assets/colab-badge.svg\" alt=\"Open In Colab\"/></a>"
      ]
    },
    {
      "cell_type": "code",
      "metadata": {
        "id": "W6oHzqb3DRpp",
        "colab_type": "code",
        "colab": {}
      },
      "source": [
        "import random\n",
        "a = [\"Rock\", \"Paper\", \"Scissors\"]\n",
        "computer = random.choice(a)\n",
        "player = True\n",
        "while player == True:\n",
        "    player = input('''Type only one\n",
        "                   Rock\n",
        "                   Paper\n",
        "                   Scissors ''')\n",
        "    if player == computer:\n",
        "        print(\"Tie\")\n",
        "    elif player == \"Rock\":\n",
        "        if computer == \"Paper\":\n",
        "            print(\"You lose.. computer answer \"+computer)\n",
        "            print(\"computer \")\n",
        "        else:\n",
        "            print(\"You win.. computer answer \"+computer)\n",
        "    elif player == \"Paper\":\n",
        "        if computer == \"Scissors\":\n",
        "            print(\"You lose.. computer answer \"+computer)\n",
        "            print(\"computer\")\n",
        "        else:\n",
        "            print(\"You win.. computer answer \"+computer)\n",
        "    elif player == \"Scissors\":\n",
        "        if computer == \"Rock\":\n",
        "            print(\"You lose.. computer answer \"+computer)\n",
        "        else:\n",
        "            print(\"You win..computer answer\"+computer)\n"
      ],
      "execution_count": 0,
      "outputs": []
    },
    {
      "cell_type": "code",
      "metadata": {
        "id": "b7-7uoyf0O3V",
        "colab_type": "code",
        "outputId": "e6f3e27e-bca5-499a-8deb-c1742776d259",
        "colab": {
          "base_uri": "https://localhost:8080/",
          "height": 202
        }
      },
      "source": [
        "import random\n",
        "a = [\"Rock\", \"Paper\", \"Scissors\"]\n",
        "print(\"Welcome to RPS\")\n",
        "gameOver = True\n",
        "while(gameOver):\n",
        "   play=input(\"Press P-Play Again.\\nQ-to Quit.\")\n",
        "   if(play=='Q' or play=='q'):\n",
        "      gameOver=False\n",
        "   else:\n",
        "      computer = random.choice(a)\n",
        "      player = input('''Type only one\n",
        "                   Rock\n",
        "                   Paper\n",
        "                   Scissors ''')\n",
        "      if player == computer:\n",
        "        print(\"Tie\")\n",
        "      elif player == \"Rock\":\n",
        "         if computer == \"Paper\":\n",
        "             \n",
        "            print(\"You lose.. computer answer \"+computer)\n",
        "            print(\"computer \")\n",
        "         else:\n",
        "             print(\"You win.. computer answer \"+computer)\n",
        "      elif player == \"Paper\":\n",
        "               if computer == \"Scissors\":\n",
        "                   print(\"You lose.. computer answer \"+computer)\n",
        "               else:\n",
        "                   print(\"You win.. computer answer \"+computer)\n",
        "      elif player == \"Scissors\":\n",
        "          if computer == \"Rock\":\n",
        "            print(\"You lose.. computer answer \"+computer)\n",
        "          else:\n",
        "             print(\"You win..computer answer\"+computer)\n",
        "\n",
        "      else: \n",
        "          print(\"invalid!!! check your spelling\")\n"
      ],
      "execution_count": 0,
      "outputs": [
        {
          "output_type": "stream",
          "text": [
            "Welcome to RPS\n",
            "\n",
            "Press\n",
            "rock : rock\n",
            "paper : paper\n",
            "scissor : scissor\n",
            "\n",
            "Press P-Play Again.\n",
            "Q-to Quit.p\n",
            "Press P-Play Again.\n",
            "Q-to Quit.q\n"
          ],
          "name": "stdout"
        }
      ]
    }
  ]
}